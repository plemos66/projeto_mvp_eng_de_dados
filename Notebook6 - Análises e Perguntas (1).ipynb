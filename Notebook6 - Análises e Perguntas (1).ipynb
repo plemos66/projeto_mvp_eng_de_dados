{
 "cells": [
  {
   "cell_type": "markdown",
   "metadata": {
    "application/vnd.databricks.v1+cell": {
     "cellMetadata": {},
     "inputWidgets": {},
     "nuid": "6dad2059-d6a7-4853-8e1d-785489455c9e",
     "showTitle": false,
     "tableResultSettingsMap": {},
     "title": ""
    }
   },
   "source": [
    "%md\n",
    "\n",
    "# 🎬 Projeto de Análise de Dados - IMDB\n",
    "\n",
    "## 📊 Notebook 5 — Análise dos Dados e Respostas às Perguntas\n",
    "\n",
    "Neste notebook, realizamos a etapa de **análise exploratória final** da base de dados tratada. Com os dados já estruturados, limpos e organizados em camadas (bronze, silver e gold), aqui buscamos **responder às perguntas principais definidas no projeto**.\n",
    "\n",
    "Cada pergunta será respondida com seu respectivo contexto, após a consulta SQL.\n",
    "\n",
    "------\n",
    "\n",
    "##Serão 10 tópicos abordados. São eles:\n",
    "\n",
    "- 1 - Os 10 Títulos de Cinema Mais Votados e com Melhores Avaliações\n",
    "- 2 - Diretores com mais Votos e com as Melhores Médias de Avaliação\n",
    "- 3 - Os países com o maior número de lançamentos de filmes nos últimos 30 anos\n",
    "- 4 - Evolução de Lançamentos (Cinema) por Década\n",
    "- 5 - Número de Atrizes (únicas) por Década (até 2019)\n",
    "- 6 - Proporção Entre Atores (únicos) e Atrizes (únicas) ao Longo das Décadas\n",
    "- 7 - Média de Duração de Tempo dos Filmes ao Longo das Décadas \n",
    "- 8 - Diretores menos prolíficos com alta média de avaliação\n",
    "- 9 - Gêneros de Cinema ao Longo das Décadas\n",
    "- 10 - Evolução da Produção de Séries de TV (2010–2024)"
   ]
  },
  {
   "cell_type": "markdown",
   "metadata": {
    "application/vnd.databricks.v1+cell": {
     "cellMetadata": {},
     "inputWidgets": {},
     "nuid": "c450435e-825e-407c-a4c7-5f182996902d",
     "showTitle": false,
     "tableResultSettingsMap": {},
     "title": ""
    }
   },
   "source": [
    "## 🎬⭐ 1 - Os 10 Títulos de Cinema Mais Votados e com Melhores Avaliações\n"
   ]
  },
  {
   "cell_type": "code",
   "execution_count": 0,
   "metadata": {
    "application/vnd.databricks.v1+cell": {
     "cellMetadata": {
      "byteLimit": 2048000,
      "implicitDf": true,
      "rowLimit": 10000
     },
     "inputWidgets": {},
     "nuid": "73992ec3-9592-4b2e-8471-ebfcf4b8e1df",
     "showTitle": false,
     "tableResultSettingsMap": {},
     "title": ""
    }
   },
   "outputs": [
    {
     "output_type": "display_data",
     "data": {
      "text/html": [
       "<style scoped>\n",
       "  .table-result-container {\n",
       "    max-height: 300px;\n",
       "    overflow: auto;\n",
       "  }\n",
       "  table, th, td {\n",
       "    border: 1px solid black;\n",
       "    border-collapse: collapse;\n",
       "  }\n",
       "  th, td {\n",
       "    padding: 5px;\n",
       "  }\n",
       "  th {\n",
       "    text-align: left;\n",
       "  }\n",
       "</style><div class='table-result-container'><table class='table-result'><thead style='background-color: white'><tr><th>titulo</th><th>ano</th><th>total_votos</th><th>avaliacao_media</th></tr></thead><tbody><tr><td>The Shawshank Redemption</td><td>1994</td><td>3029407</td><td>9.3</td></tr><tr><td>The Dark Knight</td><td>2008</td><td>3005759</td><td>9.0</td></tr><tr><td>Inception</td><td>2010</td><td>2670355</td><td>8.8</td></tr><tr><td>Fight Club</td><td>1999</td><td>2450435</td><td>8.8</td></tr><tr><td>Forrest Gump</td><td>1994</td><td>2367616</td><td>8.8</td></tr><tr><td>Interstellar</td><td>2014</td><td>2326479</td><td>8.7</td></tr><tr><td>Pulp Fiction</td><td>1994</td><td>2324367</td><td>8.9</td></tr><tr><td>The Matrix</td><td>1999</td><td>2145889</td><td>8.7</td></tr><tr><td>The Godfather</td><td>1972</td><td>2114342</td><td>9.2</td></tr><tr><td>The Lord of the Rings: The Fellowship of the Ring</td><td>2001</td><td>2098666</td><td>8.9</td></tr></tbody></table></div>"
      ]
     },
     "metadata": {
      "application/vnd.databricks.v1+output": {
       "addedWidgets": {},
       "aggData": [],
       "aggError": "",
       "aggOverflow": false,
       "aggSchema": [],
       "aggSeriesLimitReached": false,
       "aggType": "",
       "arguments": {},
       "columnCustomDisplayInfos": {},
       "data": [
        [
         "The Shawshank Redemption",
         "1994",
         3029407,
         9.3
        ],
        [
         "The Dark Knight",
         "2008",
         3005759,
         9.0
        ],
        [
         "Inception",
         "2010",
         2670355,
         8.8
        ],
        [
         "Fight Club",
         "1999",
         2450435,
         8.8
        ],
        [
         "Forrest Gump",
         "1994",
         2367616,
         8.8
        ],
        [
         "Interstellar",
         "2014",
         2326479,
         8.7
        ],
        [
         "Pulp Fiction",
         "1994",
         2324367,
         8.9
        ],
        [
         "The Matrix",
         "1999",
         2145889,
         8.7
        ],
        [
         "The Godfather",
         "1972",
         2114342,
         9.2
        ],
        [
         "The Lord of the Rings: The Fellowship of the Ring",
         "2001",
         2098666,
         8.9
        ]
       ],
       "datasetInfos": [],
       "dbfsResultPath": null,
       "isJsonSchema": true,
       "metadata": {},
       "overflow": false,
       "plotOptions": {
        "customPlotOptions": {},
        "displayType": "table",
        "pivotAggregation": null,
        "pivotColumns": null,
        "xColumns": null,
        "yColumns": null
       },
       "removedWidgets": [],
       "schema": [
        {
         "metadata": "{}",
         "name": "titulo",
         "type": "\"string\""
        },
        {
         "metadata": "{}",
         "name": "ano",
         "type": "\"string\""
        },
        {
         "metadata": "{}",
         "name": "total_votos",
         "type": "\"integer\""
        },
        {
         "metadata": "{}",
         "name": "avaliacao_media",
         "type": "\"double\""
        }
       ],
       "type": "table"
      }
     },
     "output_type": "display_data"
    }
   ],
   "source": [
    "%sql\n",
    "SELECT\n",
    "  tb.primaryTitle AS titulo,\n",
    "  tb.startYear AS ano,\n",
    "  tr.numVotes AS total_votos,\n",
    "  tr.averageRating AS avaliacao_media\n",
    "FROM gold_title_ratings tr\n",
    "JOIN gold_title_basics tb ON tr.tconst = tb.tconst\n",
    "WHERE tb.titleType = 'movie'\n",
    "  AND tr.numVotes IS NOT NULL\n",
    "  AND tr.averageRating IS NOT NULL\n",
    "ORDER BY tr.numVotes DESC, tr.averageRating DESC\n",
    "LIMIT 10;\n",
    "\n"
   ]
  },
  {
   "cell_type": "markdown",
   "metadata": {
    "application/vnd.databricks.v1+cell": {
     "cellMetadata": {},
     "inputWidgets": {},
     "nuid": "5db3476c-23be-4784-8363-50388d564540",
     "showTitle": false,
     "tableResultSettingsMap": {},
     "title": ""
    }
   },
   "source": [
    "*Análise da consulta SQL estará após a análise SQL da pergunta 3."
   ]
  },
  {
   "cell_type": "markdown",
   "metadata": {
    "application/vnd.databricks.v1+cell": {
     "cellMetadata": {},
     "inputWidgets": {},
     "nuid": "dca04072-5dc0-4f57-babb-d8f6666bf85a",
     "showTitle": false,
     "tableResultSettingsMap": {},
     "title": ""
    }
   },
   "source": [
    "## 🎥⭐ 2 - Diretores com mais Votos e com as Melhores Médias de Avaliação\n"
   ]
  },
  {
   "cell_type": "markdown",
   "metadata": {
    "application/vnd.databricks.v1+cell": {
     "cellMetadata": {},
     "inputWidgets": {},
     "nuid": "8801b97b-9765-4457-bc94-ae9f4b002c1a",
     "showTitle": false,
     "tableResultSettingsMap": {},
     "title": ""
    }
   },
   "source": [
    "*Análise da consulta SQL estará após a análise SQL da pergunta 3."
   ]
  },
  {
   "cell_type": "code",
   "execution_count": 0,
   "metadata": {
    "application/vnd.databricks.v1+cell": {
     "cellMetadata": {
      "byteLimit": 2048000,
      "implicitDf": true,
      "rowLimit": 10000
     },
     "inputWidgets": {},
     "nuid": "fafbcb9d-7cdf-4c8a-9a97-2839bfc2d6ff",
     "showTitle": false,
     "tableResultSettingsMap": {},
     "title": ""
    }
   },
   "outputs": [
    {
     "output_type": "display_data",
     "data": {
      "text/html": [
       "<style scoped>\n",
       "  .table-result-container {\n",
       "    max-height: 300px;\n",
       "    overflow: auto;\n",
       "  }\n",
       "  table, th, td {\n",
       "    border: 1px solid black;\n",
       "    border-collapse: collapse;\n",
       "  }\n",
       "  th, td {\n",
       "    padding: 5px;\n",
       "  }\n",
       "  th {\n",
       "    text-align: left;\n",
       "  }\n",
       "</style><div class='table-result-container'><table class='table-result'><thead style='background-color: white'><tr><th>diretor</th><th>total_filmes</th><th>total_votos</th><th>media_avaliacao</th></tr></thead><tbody><tr><td>Christopher Nolan</td><td>12</td><td>17135654</td><td>8.17</td></tr><tr><td>Steven Spielberg</td><td>35</td><td>15049279</td><td>7.31</td></tr><tr><td>Quentin Tarantino</td><td>12</td><td>11313974</td><td>7.87</td></tr><tr><td>Martin Scorsese</td><td>38</td><td>11102632</td><td>7.45</td></tr><tr><td>Ridley Scott</td><td>29</td><td>9558774</td><td>6.96</td></tr><tr><td>David Fincher</td><td>12</td><td>9508005</td><td>7.58</td></tr><tr><td>Peter Jackson</td><td>15</td><td>9289624</td><td>7.7</td></tr><tr><td>Robert Zemeckis</td><td>22</td><td>7843561</td><td>6.99</td></tr><tr><td>James Cameron</td><td>11</td><td>6796318</td><td>7.28</td></tr><tr><td>Tim Burton</td><td>20</td><td>5963403</td><td>6.99</td></tr></tbody></table></div>"
      ]
     },
     "metadata": {
      "application/vnd.databricks.v1+output": {
       "addedWidgets": {},
       "aggData": [],
       "aggError": "",
       "aggOverflow": false,
       "aggSchema": [],
       "aggSeriesLimitReached": false,
       "aggType": "",
       "arguments": {},
       "columnCustomDisplayInfos": {},
       "data": [
        [
         "Christopher Nolan",
         12,
         17135654,
         8.17
        ],
        [
         "Steven Spielberg",
         35,
         15049279,
         7.31
        ],
        [
         "Quentin Tarantino",
         12,
         11313974,
         7.87
        ],
        [
         "Martin Scorsese",
         38,
         11102632,
         7.45
        ],
        [
         "Ridley Scott",
         29,
         9558774,
         6.96
        ],
        [
         "David Fincher",
         12,
         9508005,
         7.58
        ],
        [
         "Peter Jackson",
         15,
         9289624,
         7.7
        ],
        [
         "Robert Zemeckis",
         22,
         7843561,
         6.99
        ],
        [
         "James Cameron",
         11,
         6796318,
         7.28
        ],
        [
         "Tim Burton",
         20,
         5963403,
         6.99
        ]
       ],
       "datasetInfos": [],
       "dbfsResultPath": null,
       "isJsonSchema": true,
       "metadata": {},
       "overflow": false,
       "plotOptions": {
        "customPlotOptions": {},
        "displayType": "table",
        "pivotAggregation": null,
        "pivotColumns": null,
        "xColumns": null,
        "yColumns": null
       },
       "removedWidgets": [],
       "schema": [
        {
         "metadata": "{}",
         "name": "diretor",
         "type": "\"string\""
        },
        {
         "metadata": "{}",
         "name": "total_filmes",
         "type": "\"long\""
        },
        {
         "metadata": "{}",
         "name": "total_votos",
         "type": "\"long\""
        },
        {
         "metadata": "{}",
         "name": "media_avaliacao",
         "type": "\"double\""
        }
       ],
       "type": "table"
      }
     },
     "output_type": "display_data"
    }
   ],
   "source": [
    "%sql\n",
    "SELECT\n",
    "  nb.primaryName AS diretor,\n",
    "  COUNT(tb.tconst) AS total_filmes,\n",
    "  SUM(tr.numVotes) AS total_votos,\n",
    "  ROUND(AVG(tr.averageRating), 2) AS media_avaliacao\n",
    "FROM gold_title_crew tc\n",
    "JOIN gold_title_basics tb ON tc.tconst = tb.tconst\n",
    "JOIN gold_title_ratings tr ON tb.tconst = tr.tconst\n",
    "JOIN gold_name_basics nb ON split(tc.directors, ',')[0] = nb.nconst\n",
    "WHERE tb.titleType = 'movie'\n",
    "GROUP BY nb.primaryName\n",
    "HAVING total_votos > 0\n",
    "ORDER BY total_votos DESC\n",
    "LIMIT 10;"
   ]
  },
  {
   "cell_type": "markdown",
   "metadata": {
    "application/vnd.databricks.v1+cell": {
     "cellMetadata": {},
     "inputWidgets": {},
     "nuid": "1bb49952-337a-4c96-bc35-438415be1944",
     "showTitle": false,
     "tableResultSettingsMap": {},
     "title": ""
    }
   },
   "source": [
    "## 🎬🌍 3 - Os países com o maior número de lançamentos de filmes nos últimos 30 anos\n",
    "Lançamentos gerais, e não propriamente produções originais de cada país"
   ]
  },
  {
   "cell_type": "code",
   "execution_count": 0,
   "metadata": {
    "application/vnd.databricks.v1+cell": {
     "cellMetadata": {
      "byteLimit": 2048000,
      "implicitDf": true,
      "rowLimit": 10000
     },
     "collapsed": true,
     "inputWidgets": {},
     "nuid": "bc6da6e8-1aec-494c-b118-b0b7f995c21b",
     "showTitle": false,
     "tableResultSettingsMap": {},
     "title": ""
    }
   },
   "outputs": [
    {
     "output_type": "display_data",
     "data": {
      "text/html": [
       "<style scoped>\n",
       "  .table-result-container {\n",
       "    max-height: 300px;\n",
       "    overflow: auto;\n",
       "  }\n",
       "  table, th, td {\n",
       "    border: 1px solid black;\n",
       "    border-collapse: collapse;\n",
       "  }\n",
       "  th, td {\n",
       "    padding: 5px;\n",
       "  }\n",
       "  th {\n",
       "    text-align: left;\n",
       "  }\n",
       "</style><div class='table-result-container'><table class='table-result'><thead style='background-color: white'><tr><th>pais</th><th>total_filmes</th></tr></thead><tbody><tr><td>US</td><td>181073</td></tr><tr><td>GB</td><td>114636</td></tr><tr><td>CA</td><td>64183</td></tr><tr><td>IN</td><td>59983</td></tr><tr><td>DE</td><td>58761</td></tr><tr><td>AU</td><td>47717</td></tr><tr><td>RU</td><td>46800</td></tr><tr><td>FR</td><td>46436</td></tr><tr><td>JP</td><td>45444</td></tr><tr><td>ES</td><td>37313</td></tr></tbody></table></div>"
      ]
     },
     "metadata": {
      "application/vnd.databricks.v1+output": {
       "addedWidgets": {},
       "aggData": [],
       "aggError": "",
       "aggOverflow": false,
       "aggSchema": [],
       "aggSeriesLimitReached": false,
       "aggType": "",
       "arguments": {},
       "columnCustomDisplayInfos": {},
       "data": [
        [
         "US",
         181073
        ],
        [
         "GB",
         114636
        ],
        [
         "CA",
         64183
        ],
        [
         "IN",
         59983
        ],
        [
         "DE",
         58761
        ],
        [
         "AU",
         47717
        ],
        [
         "RU",
         46800
        ],
        [
         "FR",
         46436
        ],
        [
         "JP",
         45444
        ],
        [
         "ES",
         37313
        ]
       ],
       "datasetInfos": [],
       "dbfsResultPath": null,
       "isJsonSchema": true,
       "metadata": {},
       "overflow": false,
       "plotOptions": {
        "customPlotOptions": {},
        "displayType": "table",
        "pivotAggregation": null,
        "pivotColumns": null,
        "xColumns": null,
        "yColumns": null
       },
       "removedWidgets": [],
       "schema": [
        {
         "metadata": "{}",
         "name": "pais",
         "type": "\"string\""
        },
        {
         "metadata": "{}",
         "name": "total_filmes",
         "type": "\"long\""
        }
       ],
       "type": "table"
      }
     },
     "output_type": "display_data"
    }
   ],
   "source": [
    "%sql\n",
    "SELECT\n",
    "  ta.region AS pais,\n",
    "  COUNT(DISTINCT tb.tconst) AS total_filmes\n",
    "FROM gold_title_basics tb\n",
    "JOIN gold_title_akas ta ON tb.tconst = ta.titleId\n",
    "WHERE tb.titleType = 'movie'\n",
    "  AND ta.region IS NOT NULL\n",
    "  AND ta.region NOT IN ('\\\\N', 'XWW')\n",
    "  AND tb.startYear >= 1995\n",
    "GROUP BY ta.region\n",
    "ORDER BY total_filmes DESC\n",
    "LIMIT 10;\n"
   ]
  },
  {
   "cell_type": "markdown",
   "metadata": {
    "application/vnd.databricks.v1+cell": {
     "cellMetadata": {},
     "inputWidgets": {},
     "nuid": "adf1965d-4cf8-4921-9e08-ba0e50c104cf",
     "showTitle": false,
     "tableResultSettingsMap": {},
     "title": ""
    }
   },
   "source": [
    "## 🌍 A Influência Internacional no Cinema\n",
    "\n",
    "A julgar pelos títulos e pelos nomes dos diretores levantados, as duas primeiras perguntas mostram um predomínio óbvio — e já esperado — do cinema americano na produção audiovisual mundial.\n",
    "\n",
    "Tentei portanto explorar os dados em busca de um entendimento sobre a carga cultural e a participação dos países na indústria cinematográfica: **Quem produz mais cinema no mundo, depois dos EUA?**\n",
    "\n",
    "O problema:\n",
    "> ❌ Não há dados sobre o país de origem da produção dos filmes  \n",
    "> ❌ Nem sobre o local de nascimento dos diretores ou profissionais\n",
    "\n",
    "O campo `region`, presente na base de títulos alternativos (`title.akas`), **não representa o país de origem da obra**, mas sim o **país onde o título foi lançado**. Por isso, um mesmo filme pode aparecer associado a múltiplas regiões.\n",
    "\n",
    "---\n",
    "\n",
    "## 🔎 Estratégia alternativa\n",
    "\n",
    "Para contornar essa limitação e ainda assim mensurar a presença global no circuito cinematográfico, a abordagem adotada foi:\n",
    "\n",
    "➡️ Medir a quantidade de títulos lançados por região a partir de 1995. \n",
    "\n",
    "➡️ Usar isso como indicador de consumo e inserção internacional no mercado audiovisual.\n",
    "\n",
    "---\n",
    "\n",
    "## 📊 Conclusões preliminares\n",
    "\n",
    "- Há um predomínio massivo do Ocidente: dos 10 países com mais lançamentos, apenas  **Índia** e **Japão** representam o Oriente.\n",
    "\n",
    "- A **população não é um fator determinante**: a Índia, o país mais populoso do mundo e com forte presença cinematográfica via Bollywood, aparece apenas na **última posição**.\n",
    "\n",
    "A tabela abaixo mostra uma razão entre filmes por milhão de habitantes, por país:\n",
    "\n",
    "## 🎬 Produção de Filmes por Milhão de Habitantes\n",
    "\n",
    "A tabela abaixo apresenta os **10 países com maior número absoluto de filmes lançados** segundo a base do IMDB, acompanhada da **população estimada** de cada país e a taxa proporcional de **filmes por milhão de habitantes**.\n",
    "\n",
    "| País                    | População Estimada | Total de Filmes (1995–2024) | Filmes por Milhão de Habitantes |\n",
    "|-------------------------|---------------------|------------------------------|----------------------------------|\n",
    "| 🇦🇺 Austrália (AU)       | 26.000.000           | 47.717                       | **1.835**                        |\n",
    "| 🇬🇧 Reino Unido (GB)     | 67.000.000           | 114.636                      | **1.711**                        |\n",
    "| 🇨🇦 Canadá (CA)          | 38.000.000           | 64.183                       | **1.689**                        |\n",
    "| 🇪🇸 Espanha (ES)         | 47.000.000           | 37.313                       | **793**                          |\n",
    "| 🇫🇷 França (FR)          | 65.000.000           | 46.436                       | **714**                          |\n",
    "| 🇩🇪 Alemanha (DE)        | 83.000.000           | 58.761                       | **708**                          |\n",
    "| 🇺🇸 Estados Unidos (US)  | 331.000.000          | 181.073                      | **547**                          |\n",
    "| 🇯🇵 Japão (JP)           | 125.000.000          | 45.444                       | **363**                          |\n",
    "| 🇷🇺 Rússia (RU)          | 144.000.000          | 46.800                       | **325**                          |\n",
    "| 🇮🇳 Índia (IN)           | 1.400.000.000        | 59.983                       | **43**                           |\n",
    "\n",
    "\n",
    "---\n",
    "\n",
    "Apesar de os Estados Unidos liderarem em número absoluto de filmes lançados desde 1995, países com populações significativamente menores, como **Austrália**, **Reino Unido** e **Canadá**, apresentam uma inserção proporcionalmente maior quando pensamos em filmes por milhão de habitantes. A capacidade de produção cultural está mais ligada à infraestrutura e investimento na indústria do que ao tamanho da população.\n",
    "\n",
    "\n",
    "### 🌍 Relação entre Produção Cultural e Indicadores Sociais (1995–2024)\n",
    "\n",
    "Nesta etapa da análise, buscamos entender se existe relação entre o **nível de desenvolvimento social dos países** e a **densidade de produção audiovisual**, medida aqui pela quantidade de filmes lançados por milhão de habitantes.\n",
    "\n",
    "| País                    | 🎬 Filmes por milhão | 🧠 IDH | 💰 PIB per capita (USD) | ✏️ Alfabetização (%) | 🌐 Acesso à Internet (%) |\n",
    "|-------------------------|----------------------|--------|--------------------------|-----------------------|---------------------------|\n",
    "| 🇦🇺 Austrália (AU)       | 1.835                | 0.951  | 62.000                   | 99%                   | 96%                       |\n",
    "| 🇬🇧 Reino Unido (GB)     | 1.711                | 0.929  | 47.000                   | 99%                   | 97%                       |\n",
    "| 🇨🇦 Canadá (CA)          | 1.689                | 0.936  | 52.000                   | 99%                   | 96%                       |\n",
    "| 🇪🇸 Espanha (ES)         |   793                | 0.905  | 34.000                   | 98%                   | 95%                       |\n",
    "| 🇫🇷 França (FR)          |   714                | 0.903  | 44.000                   | 99%                   | 95%                       |\n",
    "| 🇩🇪 Alemanha (DE)        |   708                | 0.942  | 51.000                   | 99%                   | 97%                       |\n",
    "| 🇺🇸 Estados Unidos (US)  |   547                | 0.921  | 76.000                   | 99%                   | 98%                       |\n",
    "| 🇯🇵 Japão (JP)           |   363                | 0.925  | 40.000                   | 99%                   | 94%                       |\n",
    "| 🇷🇺 Rússia (RU)          |   325                | 0.822  | 12.000                   | 99%                   | 85%                       |\n",
    "| 🇮🇳 Índia (IN)           |    43                | 0.633  |  2.500                   | 77%                   | 50%                       |\n",
    "\n",
    "---\n",
    "\n",
    "Ao cruzar os dados de filmes por milhão com indicadores sociais como **IDH**, **PIB per capita** e **acesso à internet**, percebe-se que países com melhores indicadores socioeconômicos tendem a apresentar maior produção inserção na indústria audiovisual proporcionalmente falando. Por outro lado, países como **Índia** e **Rússia**, mesmo com grandes populações e relevância cultural, ficam atrás no ranking.\n",
    "\n"
   ]
  },
  {
   "cell_type": "markdown",
   "metadata": {
    "application/vnd.databricks.v1+cell": {
     "cellMetadata": {},
     "inputWidgets": {},
     "nuid": "95572ae1-72f8-4057-957b-4ddb521a9c08",
     "showTitle": false,
     "tableResultSettingsMap": {},
     "title": ""
    }
   },
   "source": [
    "## 🎞️ 4 - Evolução de Lançamentos (Cinema) por Década"
   ]
  },
  {
   "cell_type": "code",
   "execution_count": 0,
   "metadata": {
    "application/vnd.databricks.v1+cell": {
     "cellMetadata": {
      "byteLimit": 2048000,
      "implicitDf": true,
      "rowLimit": 10000
     },
     "inputWidgets": {},
     "nuid": "59c1e84f-223d-46af-b20a-ddd65c2c1463",
     "showTitle": false,
     "tableResultSettingsMap": {},
     "title": ""
    }
   },
   "outputs": [
    {
     "output_type": "display_data",
     "data": {
      "text/html": [
       "<style scoped>\n",
       "  .table-result-container {\n",
       "    max-height: 300px;\n",
       "    overflow: auto;\n",
       "  }\n",
       "  table, th, td {\n",
       "    border: 1px solid black;\n",
       "    border-collapse: collapse;\n",
       "  }\n",
       "  th, td {\n",
       "    padding: 5px;\n",
       "  }\n",
       "  th {\n",
       "    text-align: left;\n",
       "  }\n",
       "</style><div class='table-result-container'><table class='table-result'><thead style='background-color: white'><tr><th>decada</th><th>total_lancamentos</th></tr></thead><tbody><tr><td>1910</td><td>12991</td></tr><tr><td>1920</td><td>22121</td></tr><tr><td>1930</td><td>20580</td></tr><tr><td>1940</td><td>14714</td></tr><tr><td>1950</td><td>23866</td></tr><tr><td>1960</td><td>31804</td></tr><tr><td>1970</td><td>40443</td></tr><tr><td>1980</td><td>44156</td></tr><tr><td>1990</td><td>45922</td></tr><tr><td>2000</td><td>78190</td></tr><tr><td>2010</td><td>168165</td></tr><tr><td>2020</td><td>103392</td></tr></tbody></table></div>"
      ]
     },
     "metadata": {
      "application/vnd.databricks.v1+output": {
       "addedWidgets": {},
       "aggData": [],
       "aggError": "",
       "aggOverflow": false,
       "aggSchema": [],
       "aggSeriesLimitReached": false,
       "aggType": "",
       "arguments": {},
       "columnCustomDisplayInfos": {},
       "data": [
        [
         1910,
         12991
        ],
        [
         1920,
         22121
        ],
        [
         1930,
         20580
        ],
        [
         1940,
         14714
        ],
        [
         1950,
         23866
        ],
        [
         1960,
         31804
        ],
        [
         1970,
         40443
        ],
        [
         1980,
         44156
        ],
        [
         1990,
         45922
        ],
        [
         2000,
         78190
        ],
        [
         2010,
         168165
        ],
        [
         2020,
         103392
        ]
       ],
       "datasetInfos": [],
       "dbfsResultPath": null,
       "isJsonSchema": true,
       "metadata": {},
       "overflow": false,
       "plotOptions": {
        "customPlotOptions": {},
        "displayType": "table",
        "pivotAggregation": null,
        "pivotColumns": null,
        "xColumns": null,
        "yColumns": null
       },
       "removedWidgets": [],
       "schema": [
        {
         "metadata": "{}",
         "name": "decada",
         "type": "\"long\""
        },
        {
         "metadata": "{}",
         "name": "total_lancamentos",
         "type": "\"long\""
        }
       ],
       "type": "table"
      }
     },
     "output_type": "display_data"
    }
   ],
   "source": [
    "%sql\n",
    "SELECT\n",
    "  FLOOR(startYear / 10) * 10 AS decada,\n",
    "  COUNT(*) AS total_lancamentos\n",
    "FROM gold_title_basics\n",
    "WHERE titleType = 'movie'\n",
    "  AND startYear IS NOT NULL\n",
    "  AND startYear >= 1910\n",
    "GROUP BY FLOOR(startYear / 10) * 10\n",
    "ORDER BY decada;"
   ]
  },
  {
   "cell_type": "markdown",
   "metadata": {
    "application/vnd.databricks.v1+cell": {
     "cellMetadata": {},
     "inputWidgets": {},
     "nuid": "a9c35441-a54a-4462-bd34-c68b259a8ae2",
     "showTitle": false,
     "tableResultSettingsMap": {},
     "title": ""
    }
   },
   "source": [
    "### 🔎 O que observamos?\n",
    "\n",
    "Ao agrupar os dados por década a partir de 1910, identificamos um crescimento contínuo no número de filmes lançados em quase todas as décadas. No entanto, **duas exceções importantes** se destacam:\n",
    "\n",
    "- 📉 A **década de 1940** teve o **segundo menor número de lançamentos** desde 1910 — ficando à frente apenas da própria década de 1910.\n",
    "- 📉 A **década de 1930** também registrou números baixos em comparação com o ritmo crescente observado em outras décadas.\n",
    "\n",
    "---\n",
    "\n",
    "Essas quedas **não são aleatórias** e refletem o impacto de eventos históricos de grande escala:\n",
    "\n",
    "## - Segunda Guerra Mundial (1939–1945)\n",
    "## - Grande Depressão (1929–1939)\n",
    "---\n",
    "\n",
    "### 📈 A retomada\n",
    "\n",
    "A partir da década de 1950, com o fim do conflito e a reconstrução econômica mundial, a indústria do cinema retomou seu crescimento e seguiu o padrão de crescimento década após decada.\n",
    "\n",
    "---\n",
    "\n",
    "### 🧠 Conclusão\n",
    "\n",
    "A análise da evolução por décadas **reforça a sensibilidade da indústria audiovisual a fatores históricos e geopolíticos**. \n"
   ]
  },
  {
   "cell_type": "markdown",
   "metadata": {
    "application/vnd.databricks.v1+cell": {
     "cellMetadata": {},
     "inputWidgets": {},
     "nuid": "3fd42653-1ff4-41cb-9fee-43932879e87b",
     "showTitle": false,
     "tableResultSettingsMap": {},
     "title": ""
    }
   },
   "source": [
    "##5 - 🎬 Número de Atrizes (únicas) por Década (até 2019)"
   ]
  },
  {
   "cell_type": "code",
   "execution_count": 0,
   "metadata": {
    "application/vnd.databricks.v1+cell": {
     "cellMetadata": {
      "byteLimit": 2048000,
      "implicitDf": true,
      "rowLimit": 10000
     },
     "inputWidgets": {},
     "nuid": "d396fb44-027a-49e0-b287-e7094e5cc829",
     "showTitle": false,
     "tableResultSettingsMap": {},
     "title": ""
    }
   },
   "outputs": [
    {
     "output_type": "display_data",
     "data": {
      "text/html": [
       "<style scoped>\n",
       "  .table-result-container {\n",
       "    max-height: 300px;\n",
       "    overflow: auto;\n",
       "  }\n",
       "  table, th, td {\n",
       "    border: 1px solid black;\n",
       "    border-collapse: collapse;\n",
       "  }\n",
       "  th, td {\n",
       "    padding: 5px;\n",
       "  }\n",
       "  th {\n",
       "    text-align: left;\n",
       "  }\n",
       "</style><div class='table-result-container'><table class='table-result'><thead style='background-color: white'><tr><th>decada</th><th>total_atrizes</th></tr></thead><tbody><tr><td>1910</td><td>10361</td></tr><tr><td>1920</td><td>12351</td></tr><tr><td>1930</td><td>13244</td></tr><tr><td>1940</td><td>12852</td></tr><tr><td>1950</td><td>26652</td></tr><tr><td>1960</td><td>44199</td></tr><tr><td>1970</td><td>59007</td></tr><tr><td>1980</td><td>79893</td></tr><tr><td>1990</td><td>120296</td></tr><tr><td>2000</td><td>271262</td></tr><tr><td>2010</td><td>576976</td></tr></tbody></table></div>"
      ]
     },
     "metadata": {
      "application/vnd.databricks.v1+output": {
       "addedWidgets": {},
       "aggData": [],
       "aggError": "",
       "aggOverflow": false,
       "aggSchema": [],
       "aggSeriesLimitReached": false,
       "aggType": "",
       "arguments": {},
       "columnCustomDisplayInfos": {},
       "data": [
        [
         1910,
         10361
        ],
        [
         1920,
         12351
        ],
        [
         1930,
         13244
        ],
        [
         1940,
         12852
        ],
        [
         1950,
         26652
        ],
        [
         1960,
         44199
        ],
        [
         1970,
         59007
        ],
        [
         1980,
         79893
        ],
        [
         1990,
         120296
        ],
        [
         2000,
         271262
        ],
        [
         2010,
         576976
        ]
       ],
       "datasetInfos": [],
       "dbfsResultPath": null,
       "isJsonSchema": true,
       "metadata": {},
       "overflow": false,
       "plotOptions": {
        "customPlotOptions": {},
        "displayType": "table",
        "pivotAggregation": null,
        "pivotColumns": null,
        "xColumns": null,
        "yColumns": null
       },
       "removedWidgets": [],
       "schema": [
        {
         "metadata": "{}",
         "name": "decada",
         "type": "\"long\""
        },
        {
         "metadata": "{}",
         "name": "total_atrizes",
         "type": "\"long\""
        }
       ],
       "type": "table"
      }
     },
     "output_type": "display_data"
    }
   ],
   "source": [
    "%sql\n",
    "SELECT \n",
    "  FLOOR(tb.startYear / 10) * 10 AS decada,\n",
    "  COUNT(DISTINCT nb.primaryName) AS total_atrizes\n",
    "FROM gold_title_principals tp\n",
    "JOIN gold_name_basics nb ON tp.nconst = nb.nconst\n",
    "JOIN gold_title_basics tb ON tp.tconst = tb.tconst\n",
    "WHERE tp.category = 'actress'\n",
    "  AND tb.startYear IS NOT NULL\n",
    "  AND tb.startYear >= 1910\n",
    "  AND tb.startYear < 2020\n",
    "GROUP BY FLOOR(tb.startYear / 10) * 10\n",
    "ORDER BY decada;\n",
    "\n",
    "\n",
    "\n"
   ]
  },
  {
   "cell_type": "markdown",
   "metadata": {
    "application/vnd.databricks.v1+cell": {
     "cellMetadata": {},
     "inputWidgets": {},
     "nuid": "463fd316-7fa3-4d71-9572-73311d4cacd7",
     "showTitle": false,
     "tableResultSettingsMap": {},
     "title": ""
    }
   },
   "source": [
    "\n",
    "![Gráfico da Pergunta 5](https://github.com/plemos66/projeto_mvp_eng_de_dados/raw/main/img/5.png)\n"
   ]
  },
  {
   "cell_type": "markdown",
   "metadata": {
    "application/vnd.databricks.v1+cell": {
     "cellMetadata": {},
     "inputWidgets": {},
     "nuid": "ee30eafd-5418-4136-b818-ce7a8846f7f1",
     "showTitle": false,
     "tableResultSettingsMap": {},
     "title": ""
    }
   },
   "source": [
    "## 👩‍🎬 Participação de Atrizes ao Longo das Décadas\n",
    "\n",
    "Esta análise traz uma perspectiva histórica da presença de atrizes nas produções cinematográficas entre as décadas de 1910 e 2010,\n",
    "\n",
    "O nome da atriz é contabilizado apenas uma vez por década, mesmo que ela tenha participado de mais de uma produção no mesmo período.\n",
    "\n",
    "## Observações:\n",
    "\n",
    "- **Crescimento consistente**: o número de atrizes cresce consistentemente ao longo das décadas, assim como a produção dos filmes.\n",
    "\n",
    "- **Explosão nos anos 2000**: As décadas de 1990 e 2000 mostram saltos significativos nessa análise, indicando uma indústria mais diversificada e com mais oportunidades de atuação feminina, inclusive em produções seriadas. \n",
    "\n",
    "- **Relevância social**: a guinada nos anos 90/2000 reflete a concordância entre os dados expostos e as tendências sociais, que discutem e exigem cada vez mais a participação feminina no mercado de trabalho, independente da área de atuação."
   ]
  },
  {
   "cell_type": "markdown",
   "metadata": {
    "application/vnd.databricks.v1+cell": {
     "cellMetadata": {},
     "inputWidgets": {},
     "nuid": "c5d2786b-091b-46b5-9ee8-c0ecadb17118",
     "showTitle": false,
     "tableResultSettingsMap": {},
     "title": ""
    }
   },
   "source": [
    "##6 - 👨👩‍🎬 Proporção Entre Atores (únicos) e Atrizes (únicas) ao Longo das Décadas"
   ]
  },
  {
   "cell_type": "code",
   "execution_count": 0,
   "metadata": {
    "application/vnd.databricks.v1+cell": {
     "cellMetadata": {
      "byteLimit": 2048000,
      "implicitDf": true,
      "rowLimit": 10000
     },
     "inputWidgets": {},
     "nuid": "9f6f3ac1-f11c-4878-994e-2d403f98c3d9",
     "showTitle": false,
     "tableResultSettingsMap": {},
     "title": ""
    }
   },
   "outputs": [
    {
     "output_type": "display_data",
     "data": {
      "text/html": [
       "<style scoped>\n",
       "  .table-result-container {\n",
       "    max-height: 300px;\n",
       "    overflow: auto;\n",
       "  }\n",
       "  table, th, td {\n",
       "    border: 1px solid black;\n",
       "    border-collapse: collapse;\n",
       "  }\n",
       "  th, td {\n",
       "    padding: 5px;\n",
       "  }\n",
       "  th {\n",
       "    text-align: left;\n",
       "  }\n",
       "</style><div class='table-result-container'><table class='table-result'><thead style='background-color: white'><tr><th>decada</th><th>category</th><th>total_categoria</th><th>percentual</th></tr></thead><tbody><tr><td>1910</td><td>actor</td><td>15562</td><td>60.05</td></tr><tr><td>1910</td><td>actress</td><td>10361</td><td>39.98</td></tr><tr><td>1920</td><td>actor</td><td>21076</td><td>63.14</td></tr><tr><td>1920</td><td>actress</td><td>12351</td><td>37.0</td></tr><tr><td>1930</td><td>actor</td><td>23256</td><td>63.85</td></tr><tr><td>1930</td><td>actress</td><td>13244</td><td>36.36</td></tr><tr><td>1940</td><td>actor</td><td>21669</td><td>62.81</td></tr><tr><td>1940</td><td>actress</td><td>12852</td><td>37.25</td></tr><tr><td>1950</td><td>actor</td><td>45824</td><td>63.28</td></tr><tr><td>1950</td><td>actress</td><td>26652</td><td>36.8</td></tr><tr><td>1960</td><td>actor</td><td>75518</td><td>63.13</td></tr><tr><td>1960</td><td>actress</td><td>44199</td><td>36.95</td></tr><tr><td>1970</td><td>actor</td><td>99657</td><td>62.86</td></tr><tr><td>1970</td><td>actress</td><td>59007</td><td>37.22</td></tr><tr><td>1980</td><td>actor</td><td>131667</td><td>62.3</td></tr><tr><td>1980</td><td>actress</td><td>79893</td><td>37.8</td></tr><tr><td>1990</td><td>actor</td><td>191932</td><td>61.57</td></tr><tr><td>1990</td><td>actress</td><td>120296</td><td>38.59</td></tr><tr><td>2000</td><td>actor</td><td>424361</td><td>61.18</td></tr><tr><td>2000</td><td>actress</td><td>271262</td><td>39.11</td></tr><tr><td>2010</td><td>actor</td><td>947761</td><td>62.57</td></tr><tr><td>2010</td><td>actress</td><td>576976</td><td>38.09</td></tr></tbody></table></div>"
      ]
     },
     "metadata": {
      "application/vnd.databricks.v1+output": {
       "addedWidgets": {},
       "aggData": [],
       "aggError": "",
       "aggOverflow": false,
       "aggSchema": [],
       "aggSeriesLimitReached": false,
       "aggType": "",
       "arguments": {},
       "columnCustomDisplayInfos": {},
       "data": [
        [
         1910,
         "actor",
         15562,
         60.05
        ],
        [
         1910,
         "actress",
         10361,
         39.98
        ],
        [
         1920,
         "actor",
         21076,
         63.14
        ],
        [
         1920,
         "actress",
         12351,
         37.0
        ],
        [
         1930,
         "actor",
         23256,
         63.85
        ],
        [
         1930,
         "actress",
         13244,
         36.36
        ],
        [
         1940,
         "actor",
         21669,
         62.81
        ],
        [
         1940,
         "actress",
         12852,
         37.25
        ],
        [
         1950,
         "actor",
         45824,
         63.28
        ],
        [
         1950,
         "actress",
         26652,
         36.8
        ],
        [
         1960,
         "actor",
         75518,
         63.13
        ],
        [
         1960,
         "actress",
         44199,
         36.95
        ],
        [
         1970,
         "actor",
         99657,
         62.86
        ],
        [
         1970,
         "actress",
         59007,
         37.22
        ],
        [
         1980,
         "actor",
         131667,
         62.3
        ],
        [
         1980,
         "actress",
         79893,
         37.8
        ],
        [
         1990,
         "actor",
         191932,
         61.57
        ],
        [
         1990,
         "actress",
         120296,
         38.59
        ],
        [
         2000,
         "actor",
         424361,
         61.18
        ],
        [
         2000,
         "actress",
         271262,
         39.11
        ],
        [
         2010,
         "actor",
         947761,
         62.57
        ],
        [
         2010,
         "actress",
         576976,
         38.09
        ]
       ],
       "datasetInfos": [],
       "dbfsResultPath": null,
       "isJsonSchema": true,
       "metadata": {},
       "overflow": false,
       "plotOptions": {
        "customPlotOptions": {},
        "displayType": "table",
        "pivotAggregation": null,
        "pivotColumns": null,
        "xColumns": null,
        "yColumns": null
       },
       "removedWidgets": [],
       "schema": [
        {
         "metadata": "{}",
         "name": "decada",
         "type": "\"long\""
        },
        {
         "metadata": "{}",
         "name": "category",
         "type": "\"string\""
        },
        {
         "metadata": "{}",
         "name": "total_categoria",
         "type": "\"long\""
        },
        {
         "metadata": "{}",
         "name": "percentual",
         "type": "\"double\""
        }
       ],
       "type": "table"
      }
     },
     "output_type": "display_data"
    }
   ],
   "source": [
    "%sql\n",
    "WITH totais_por_decada AS (\n",
    "  SELECT \n",
    "    FLOOR(tb.startYear / 10) * 10 AS decada,\n",
    "    COUNT(DISTINCT nb.primaryName) AS total_decada\n",
    "  FROM gold_title_principals tp\n",
    "  JOIN gold_name_basics nb ON tp.nconst = nb.nconst\n",
    "  JOIN gold_title_basics tb ON tp.tconst = tb.tconst\n",
    "  WHERE tp.category IN ('actor', 'actress')\n",
    "    AND tb.startYear IS NOT NULL\n",
    "    AND tb.startYear >= 1910\n",
    "    AND tb.startYear < 2020\n",
    "  GROUP BY FLOOR(tb.startYear / 10) * 10\n",
    "),\n",
    "\n",
    "atores_e_atrizes AS (\n",
    "  SELECT \n",
    "    FLOOR(tb.startYear / 10) * 10 AS decada,\n",
    "    tp.category,\n",
    "    COUNT(DISTINCT nb.primaryName) AS total_categoria\n",
    "  FROM gold_title_principals tp\n",
    "  JOIN gold_name_basics nb ON tp.nconst = nb.nconst\n",
    "  JOIN gold_title_basics tb ON tp.tconst = tb.tconst\n",
    "  WHERE tp.category IN ('actor', 'actress')\n",
    "    AND tb.startYear IS NOT NULL\n",
    "    AND tb.startYear >= 1910\n",
    "    AND tb.startYear < 2020\n",
    "  GROUP BY FLOOR(tb.startYear / 10) * 10, tp.category\n",
    ")\n",
    "\n",
    "SELECT \n",
    "  a.decada,\n",
    "  a.category,\n",
    "  a.total_categoria,\n",
    "  ROUND((a.total_categoria / t.total_decada) * 100, 2) AS percentual\n",
    "FROM atores_e_atrizes a\n",
    "JOIN totais_por_decada t ON a.decada = t.decada\n",
    "ORDER BY a.decada, a.category;\n",
    "\n",
    "\n"
   ]
  },
  {
   "cell_type": "markdown",
   "metadata": {
    "application/vnd.databricks.v1+cell": {
     "cellMetadata": {},
     "inputWidgets": {},
     "nuid": "008eb7d0-37b6-4c96-b802-3fc1c677505d",
     "showTitle": false,
     "tableResultSettingsMap": {},
     "title": ""
    }
   },
   "source": [
    "\n",
    "![Gráfico da Pergunta 6](https://github.com/plemos66/projeto_mvp_eng_de_dados/raw/main/img/6.png)\n"
   ]
  },
  {
   "cell_type": "markdown",
   "metadata": {
    "application/vnd.databricks.v1+cell": {
     "cellMetadata": {},
     "inputWidgets": {},
     "nuid": "54c8eca5-42d1-4ffe-9d37-de2de988a320",
     "showTitle": false,
     "tableResultSettingsMap": {},
     "title": ""
    }
   },
   "source": [
    "##🔎 O que observei\n",
    "Apesar do crescimento progressivo do número de atrizes trabalhando nas produções audiovisuais, a variação percentual entre homens e mulheres é pequena ao longo do tempo. Mas ela existe e diminui a distància proporcional entre gêneros!\n",
    "\n",
    "\n",
    "A partir da década de 90, o percentual feminino de presença nos filmes é maior em relação ao período entre 1920 e 1989, o que indica sim um movimento pautado por privilegiar a figura feminina dentro da indústria cinematográfica. \n",
    "\n",
    "### 🧠 Conclusão\n",
    "Os homens ainda são muito mais presentes quando o assunto é ganhar o papel em um filme, mas as mulheres vem não só crescendo sua presença década após década, mas também diminuindo a distância proporcional entre gêneros.\n",
    "\n",
    "##Obs:\n",
    "Aqui eu também queria fazer um recorte entre as outras áreas de atuação, como diretores, roteiristas e etc, mas não há nenhum dado qualificando-os por gênero. Para poder dividir assertivamente, só usando as categorias de Actor e Actress, e por isso a análise foi fechada apenas nessa ramo de atuação."
   ]
  },
  {
   "cell_type": "markdown",
   "metadata": {
    "application/vnd.databricks.v1+cell": {
     "cellMetadata": {},
     "inputWidgets": {},
     "nuid": "a3efbcc3-c84f-4ac8-88e3-2ece7374095c",
     "showTitle": false,
     "tableResultSettingsMap": {},
     "title": ""
    }
   },
   "source": [
    "##🕒 7 - Média de Duração de Tempo dos Filmes ao Longo das Décadas "
   ]
  },
  {
   "cell_type": "code",
   "execution_count": 0,
   "metadata": {
    "application/vnd.databricks.v1+cell": {
     "cellMetadata": {
      "byteLimit": 2048000,
      "implicitDf": true,
      "rowLimit": 10000
     },
     "inputWidgets": {},
     "nuid": "be51ffd3-7fad-4b74-95a5-4b5195a17bc6",
     "showTitle": false,
     "tableResultSettingsMap": {},
     "title": ""
    }
   },
   "outputs": [
    {
     "output_type": "display_data",
     "data": {
      "text/html": [
       "<style scoped>\n",
       "  .table-result-container {\n",
       "    max-height: 300px;\n",
       "    overflow: auto;\n",
       "  }\n",
       "  table, th, td {\n",
       "    border: 1px solid black;\n",
       "    border-collapse: collapse;\n",
       "  }\n",
       "  th, td {\n",
       "    padding: 5px;\n",
       "  }\n",
       "  th {\n",
       "    text-align: left;\n",
       "  }\n",
       "</style><div class='table-result-container'><table class='table-result'><thead style='background-color: white'><tr><th>decada</th><th>duracao_media_minutos</th></tr></thead><tbody><tr><td>1910</td><td>61.6</td></tr><tr><td>1920</td><td>71.6</td></tr><tr><td>1930</td><td>80.3</td></tr><tr><td>1940</td><td>85.8</td></tr><tr><td>1950</td><td>90.3</td></tr><tr><td>1960</td><td>92.9</td></tr><tr><td>1970</td><td>90.5</td></tr><tr><td>1980</td><td>91.7</td></tr><tr><td>1990</td><td>92.1</td></tr><tr><td>2000</td><td>89.2</td></tr><tr><td>2010</td><td>90.0</td></tr><tr><td>2020</td><td>91.4</td></tr></tbody></table></div>"
      ]
     },
     "metadata": {
      "application/vnd.databricks.v1+output": {
       "addedWidgets": {},
       "aggData": [],
       "aggError": "",
       "aggOverflow": false,
       "aggSchema": [],
       "aggSeriesLimitReached": false,
       "aggType": "",
       "arguments": {},
       "columnCustomDisplayInfos": {},
       "data": [
        [
         1910,
         61.6
        ],
        [
         1920,
         71.6
        ],
        [
         1930,
         80.3
        ],
        [
         1940,
         85.8
        ],
        [
         1950,
         90.3
        ],
        [
         1960,
         92.9
        ],
        [
         1970,
         90.5
        ],
        [
         1980,
         91.7
        ],
        [
         1990,
         92.1
        ],
        [
         2000,
         89.2
        ],
        [
         2010,
         90.0
        ],
        [
         2020,
         91.4
        ]
       ],
       "datasetInfos": [],
       "dbfsResultPath": null,
       "isJsonSchema": true,
       "metadata": {},
       "overflow": false,
       "plotOptions": {
        "customPlotOptions": {},
        "displayType": "table",
        "pivotAggregation": null,
        "pivotColumns": null,
        "xColumns": null,
        "yColumns": null
       },
       "removedWidgets": [],
       "schema": [
        {
         "metadata": "{}",
         "name": "decada",
         "type": "\"long\""
        },
        {
         "metadata": "{}",
         "name": "duracao_media_minutos",
         "type": "\"double\""
        }
       ],
       "type": "table"
      }
     },
     "output_type": "display_data"
    }
   ],
   "source": [
    "%sql\n",
    "SELECT\n",
    "  FLOOR(startYear / 10) * 10 AS decada,\n",
    "  ROUND(AVG(runtimeMinutes), 1) AS duracao_media_minutos\n",
    "FROM gold_title_basics\n",
    "WHERE titleType = 'movie'\n",
    "  AND runtimeMinutes IS NOT NULL\n",
    "  AND runtimeMinutes > 0\n",
    "  AND startYear IS NOT NULL\n",
    "  AND startYear >= 1910\n",
    "GROUP BY FLOOR(startYear / 10)\n",
    "ORDER BY decada;\n"
   ]
  },
  {
   "cell_type": "markdown",
   "metadata": {
    "application/vnd.databricks.v1+cell": {
     "cellMetadata": {},
     "inputWidgets": {},
     "nuid": "6e620858-81c4-419e-aa6e-3d0482eeb798",
     "showTitle": false,
     "tableResultSettingsMap": {},
     "title": ""
    }
   },
   "source": [
    "\n",
    "![Gráfico da Pergunta 7](https://github.com/plemos66/projeto_mvp_eng_de_dados/raw/main/img/7.png)\n"
   ]
  },
  {
   "cell_type": "markdown",
   "metadata": {
    "application/vnd.databricks.v1+cell": {
     "cellMetadata": {},
     "inputWidgets": {},
     "nuid": "5a5fbe2a-7ca4-40e7-a7c4-70f153f30fe6",
     "showTitle": false,
     "tableResultSettingsMap": {},
     "title": ""
    }
   },
   "source": [
    "## 🕒 O Tempo dos Filmes\n",
    "\n",
    "Até chegar no padrão \"moderno\" dos filmes, que se deu na década de 50, os filmes tinham uma outra característica, mais curtos, e foram aumentando a minutagem ao longo do tempo.\n",
    "\n",
    "A partir dos anos 50, os filmes ganham mais ou menos o mesmo padrão de minutagem, tendo o seu pico na década de 60. \n",
    "\n",
    "### 🧠 Reflexão\n",
    "\n",
    "Na era da fugacidade, em que a produção de conteúdo em plataformas como o Tik Tok se limitam a apenas 1 minuto de vídeo, e 8 minutos no Youtube já é muito longo, como estará esse gráfico daqui a 2 décadas? Os filmes acompanharão a tendência das redes sociais e o ritmo da vida social? \n"
   ]
  },
  {
   "cell_type": "markdown",
   "metadata": {
    "application/vnd.databricks.v1+cell": {
     "cellMetadata": {},
     "inputWidgets": {},
     "nuid": "238760b9-2135-41f8-9272-56aa07ab8e1a",
     "showTitle": false,
     "tableResultSettingsMap": {},
     "title": ""
    }
   },
   "source": [
    "## 🎬 8 - Diretores menos prolíficos com alta média de avaliação\n",
    "\n",
    "Quem são os que têm menos títulos, porém com média de avaliação alta?"
   ]
  },
  {
   "cell_type": "code",
   "execution_count": 0,
   "metadata": {
    "application/vnd.databricks.v1+cell": {
     "cellMetadata": {
      "byteLimit": 2048000,
      "implicitDf": true,
      "rowLimit": 10000
     },
     "inputWidgets": {},
     "nuid": "a0fa4cdb-a58a-4475-ae67-9aa9941c42b9",
     "showTitle": false,
     "tableResultSettingsMap": {},
     "title": ""
    }
   },
   "outputs": [
    {
     "output_type": "display_data",
     "data": {
      "text/html": [
       "<style scoped>\n",
       "  .table-result-container {\n",
       "    max-height: 300px;\n",
       "    overflow: auto;\n",
       "  }\n",
       "  table, th, td {\n",
       "    border: 1px solid black;\n",
       "    border-collapse: collapse;\n",
       "  }\n",
       "  th, td {\n",
       "    padding: 5px;\n",
       "  }\n",
       "  th {\n",
       "    text-align: left;\n",
       "  }\n",
       "</style><div class='table-result-container'><table class='table-result'><thead style='background-color: white'><tr><th>diretor</th><th>total_filmes</th><th>total_votos</th><th>media_avaliacao</th></tr></thead><tbody><tr><td>Slobodan Sijan</td><td>2</td><td>34845</td><td>8.75</td></tr><tr><td>Atif Yilmaz</td><td>2</td><td>35473</td><td>8.55</td></tr><tr><td>C. Prem Kumar</td><td>2</td><td>54490</td><td>8.45</td></tr><tr><td>Ron Fricke</td><td>2</td><td>80978</td><td>8.45</td></tr><tr><td>Zeki Ökten</td><td>2</td><td>36376</td><td>8.4</td></tr><tr><td>Dragan Bjelogrlic</td><td>2</td><td>26316</td><td>8.4</td></tr><tr><td>Moustapha Akkad</td><td>3</td><td>81883</td><td>8.4</td></tr><tr><td>Lee Unkrich</td><td>2</td><td>1572720</td><td>8.35</td></tr><tr><td>Jeethu Joseph</td><td>2</td><td>88453</td><td>8.35</td></tr><tr><td>Mari Selvaraj</td><td>2</td><td>43785</td><td>8.35</td></tr></tbody></table></div>"
      ]
     },
     "metadata": {
      "application/vnd.databricks.v1+output": {
       "addedWidgets": {},
       "aggData": [],
       "aggError": "",
       "aggOverflow": false,
       "aggSchema": [],
       "aggSeriesLimitReached": false,
       "aggType": "",
       "arguments": {},
       "columnCustomDisplayInfos": {},
       "data": [
        [
         "Slobodan Sijan",
         2,
         34845,
         8.75
        ],
        [
         "Atif Yilmaz",
         2,
         35473,
         8.55
        ],
        [
         "C. Prem Kumar",
         2,
         54490,
         8.45
        ],
        [
         "Ron Fricke",
         2,
         80978,
         8.45
        ],
        [
         "Zeki Ökten",
         2,
         36376,
         8.4
        ],
        [
         "Dragan Bjelogrlic",
         2,
         26316,
         8.4
        ],
        [
         "Moustapha Akkad",
         3,
         81883,
         8.4
        ],
        [
         "Lee Unkrich",
         2,
         1572720,
         8.35
        ],
        [
         "Jeethu Joseph",
         2,
         88453,
         8.35
        ],
        [
         "Mari Selvaraj",
         2,
         43785,
         8.35
        ]
       ],
       "datasetInfos": [],
       "dbfsResultPath": null,
       "isJsonSchema": true,
       "metadata": {},
       "overflow": false,
       "plotOptions": {
        "customPlotOptions": {},
        "displayType": "table",
        "pivotAggregation": null,
        "pivotColumns": null,
        "xColumns": null,
        "yColumns": null
       },
       "removedWidgets": [],
       "schema": [
        {
         "metadata": "{}",
         "name": "diretor",
         "type": "\"string\""
        },
        {
         "metadata": "{}",
         "name": "total_filmes",
         "type": "\"long\""
        },
        {
         "metadata": "{}",
         "name": "total_votos",
         "type": "\"long\""
        },
        {
         "metadata": "{}",
         "name": "media_avaliacao",
         "type": "\"double\""
        }
       ],
       "type": "table"
      }
     },
     "output_type": "display_data"
    }
   ],
   "source": [
    "%sql\n",
    "SELECT \n",
    "  nb.primaryName AS diretor,\n",
    "  COUNT(DISTINCT tr.tconst) AS total_filmes,\n",
    "  SUM(tr.numVotes) AS total_votos,\n",
    "  ROUND(AVG(tr.averageRating), 2) AS media_avaliacao\n",
    "FROM gold_title_crew tc\n",
    "JOIN gold_title_ratings tr ON tc.tconst = tr.tconst\n",
    "JOIN gold_name_basics nb ON SPLIT(tc.directors, ',')[0] = nb.nconst\n",
    "JOIN gold_title_basics tb ON tc.tconst = tb.tconst\n",
    "WHERE tb.titleType = 'movie'\n",
    "  AND tr.averageRating IS NOT NULL\n",
    "  AND tr.numVotes >= 10000\n",
    "  AND tc.directors IS NOT NULL\n",
    "GROUP BY nb.primaryName\n",
    "HAVING total_filmes BETWEEN 2 AND 5\n",
    "ORDER BY media_avaliacao DESC\n",
    "LIMIT 10;\n"
   ]
  },
  {
   "cell_type": "markdown",
   "metadata": {
    "application/vnd.databricks.v1+cell": {
     "cellMetadata": {},
     "inputWidgets": {},
     "nuid": "fb2d4c06-bf3f-40b1-aca7-83dc9de87d2a",
     "showTitle": false,
     "tableResultSettingsMap": {},
     "title": ""
    }
   },
   "source": [
    "##🔎 O que observei\n",
    "A tabela acima mostra as melhores avaliações entre os diretores com o menor número de filmes produzidos.\n",
    "\n",
    "Fiz um filtro para considerar apenas diretores com ao menos 2 filmes produzidos, e no máximo 5. Também tinham que ter o mínimo de 10 mil avaliações recebidas.\n",
    "\n",
    "Essa análise pode complementar também o estudo das 3 primeiras perguntas, já que mostra um circuito \"off\" de cinema, de diretores que estão fora do mainstream, mas produzindo filmes aclamados.\n",
    "\n",
    "- Obs: esses diretores não necessariamente trabalharam apenas nesses filmes, mas é o que consta na base de dados, nos filtros praticados.\n",
    "\n",
    "### 🧠 Conclusão\n",
    "São diretores Sérvios, Turcos e Indianos que não vão estar em qualquer cinema, mas que produziram filmes bem avaliados, e avaliados por muita gente. "
   ]
  },
  {
   "cell_type": "markdown",
   "metadata": {
    "application/vnd.databricks.v1+cell": {
     "cellMetadata": {},
     "inputWidgets": {},
     "nuid": "7ae6fb81-3517-4ca9-b0ec-7dd558d80ee2",
     "showTitle": false,
     "tableResultSettingsMap": {},
     "title": ""
    }
   },
   "source": [
    "##9 - Gêneros de Cinema ao Longo das Décadas\n",
    "Quais gêneros tiveram o maior número de títulos produzidos por década"
   ]
  },
  {
   "cell_type": "code",
   "execution_count": 0,
   "metadata": {
    "application/vnd.databricks.v1+cell": {
     "cellMetadata": {
      "byteLimit": 2048000,
      "implicitDf": true,
      "rowLimit": 10000
     },
     "inputWidgets": {},
     "nuid": "7408ae0c-9586-4f30-aa11-7cf5f15b7bed",
     "showTitle": false,
     "tableResultSettingsMap": {},
     "title": ""
    }
   },
   "outputs": [
    {
     "output_type": "display_data",
     "data": {
      "text/html": [
       "<style scoped>\n",
       "  .table-result-container {\n",
       "    max-height: 300px;\n",
       "    overflow: auto;\n",
       "  }\n",
       "  table, th, td {\n",
       "    border: 1px solid black;\n",
       "    border-collapse: collapse;\n",
       "  }\n",
       "  th, td {\n",
       "    padding: 5px;\n",
       "  }\n",
       "  th {\n",
       "    text-align: left;\n",
       "  }\n",
       "</style><div class='table-result-container'><table class='table-result'><thead style='background-color: white'><tr><th>decada</th><th>genero</th></tr></thead><tbody><tr><td>1910</td><td>Drama</td></tr><tr><td>1920</td><td>Drama</td></tr><tr><td>1930</td><td>Drama</td></tr><tr><td>1940</td><td>Drama</td></tr><tr><td>1950</td><td>Drama</td></tr><tr><td>1960</td><td>Drama</td></tr><tr><td>1970</td><td>Drama</td></tr><tr><td>1980</td><td>Drama</td></tr><tr><td>1990</td><td>Drama</td></tr><tr><td>2000</td><td>Drama</td></tr><tr><td>2010</td><td>Drama</td></tr><tr><td>2020</td><td>Documentary</td></tr></tbody></table></div>"
      ]
     },
     "metadata": {
      "application/vnd.databricks.v1+output": {
       "addedWidgets": {},
       "aggData": [],
       "aggError": "",
       "aggOverflow": false,
       "aggSchema": [],
       "aggSeriesLimitReached": false,
       "aggType": "",
       "arguments": {},
       "columnCustomDisplayInfos": {},
       "data": [
        [
         1910,
         "Drama"
        ],
        [
         1920,
         "Drama"
        ],
        [
         1930,
         "Drama"
        ],
        [
         1940,
         "Drama"
        ],
        [
         1950,
         "Drama"
        ],
        [
         1960,
         "Drama"
        ],
        [
         1970,
         "Drama"
        ],
        [
         1980,
         "Drama"
        ],
        [
         1990,
         "Drama"
        ],
        [
         2000,
         "Drama"
        ],
        [
         2010,
         "Drama"
        ],
        [
         2020,
         "Documentary"
        ]
       ],
       "datasetInfos": [],
       "dbfsResultPath": null,
       "isJsonSchema": true,
       "metadata": {},
       "overflow": false,
       "plotOptions": {
        "customPlotOptions": {},
        "displayType": "table",
        "pivotAggregation": null,
        "pivotColumns": null,
        "xColumns": null,
        "yColumns": null
       },
       "removedWidgets": [],
       "schema": [
        {
         "metadata": "{}",
         "name": "decada",
         "type": "\"long\""
        },
        {
         "metadata": "{}",
         "name": "genero",
         "type": "\"string\""
        }
       ],
       "type": "table"
      }
     },
     "output_type": "display_data"
    }
   ],
   "source": [
    "%sql\n",
    "WITH generos_por_decada AS (\n",
    "  SELECT\n",
    "    FLOOR(startYear / 10) * 10 AS decada,\n",
    "    TRIM(genero) AS genero,\n",
    "    COUNT(*) AS total_titulos\n",
    "  FROM gold_title_basics\n",
    "  LATERAL VIEW explode(split(genres, ',')) AS genero\n",
    "  WHERE startYear >= 1910\n",
    "    AND startYear <= 2020\n",
    "    AND genres IS NOT NULL\n",
    "    AND genres != '\\\\N'\n",
    "    AND titleType = 'movie'\n",
    "  GROUP BY FLOOR(startYear / 10) * 10, TRIM(genero)\n",
    "),\n",
    "ranking_generos AS (\n",
    "  SELECT *,\n",
    "         ROW_NUMBER() OVER (PARTITION BY decada ORDER BY total_titulos DESC) AS posicao\n",
    "  FROM generos_por_decada\n",
    ")\n",
    "SELECT decada, genero\n",
    "FROM ranking_generos\n",
    "WHERE posicao = 1\n",
    "ORDER BY decada;\n"
   ]
  },
  {
   "cell_type": "markdown",
   "metadata": {
    "application/vnd.databricks.v1+cell": {
     "cellMetadata": {},
     "inputWidgets": {},
     "nuid": "081e1348-2b7f-43b8-98ae-68a8c1f4ab3b",
     "showTitle": false,
     "tableResultSettingsMap": {},
     "title": ""
    }
   },
   "source": [
    "## 🎭 Gêneros Cinematográficos Predominantes por Década\n",
    "\n",
    "## 🔎 Observações:\n",
    "\n",
    "**Drama** reina absoluto por mais de um século como o gênero mais produzido, o que demonstra sua versatilidade e profundidade para abordar temas humanos, sociais e existenciais.\n",
    "\n",
    "🎬 A primeira mudança só ocorre em **2020**, com o **Documentário** assumindo o posto. Isso pode estar relacionado ao crescimento de produções independentes, plataformas de streaming e um maior interesse por conteúdos informativos e reais, especialmente em um contexto pós-pandemia.\n",
    "\n",
    "- obs: A permanência do drama como gênero dominante também pode indicar uma possível limitação na categorização dos dados, já que muitos títulos são classificados como \"Drama\" junto com outros gêneros."
   ]
  },
  {
   "cell_type": "markdown",
   "metadata": {
    "application/vnd.databricks.v1+cell": {
     "cellMetadata": {},
     "inputWidgets": {},
     "nuid": "1b2eed46-cb47-4db3-9f25-296b7cc52322",
     "showTitle": false,
     "tableResultSettingsMap": {},
     "title": ""
    }
   },
   "source": [
    "##10 - 📺 Produção de Séries de TV nos Últimos 15 anos"
   ]
  },
  {
   "cell_type": "code",
   "execution_count": 0,
   "metadata": {
    "application/vnd.databricks.v1+cell": {
     "cellMetadata": {
      "byteLimit": 2048000,
      "implicitDf": true,
      "rowLimit": 10000
     },
     "inputWidgets": {},
     "nuid": "c2349dc6-d06c-4abf-9a56-6a3b1df2048f",
     "showTitle": false,
     "tableResultSettingsMap": {},
     "title": ""
    }
   },
   "outputs": [
    {
     "output_type": "display_data",
     "data": {
      "text/html": [
       "<style scoped>\n",
       "  .table-result-container {\n",
       "    max-height: 300px;\n",
       "    overflow: auto;\n",
       "  }\n",
       "  table, th, td {\n",
       "    border: 1px solid black;\n",
       "    border-collapse: collapse;\n",
       "  }\n",
       "  th, td {\n",
       "    padding: 5px;\n",
       "  }\n",
       "  th {\n",
       "    text-align: left;\n",
       "  }\n",
       "</style><div class='table-result-container'><table class='table-result'><thead style='background-color: white'><tr><th>ano</th><th>total_titulos</th></tr></thead><tbody><tr><td>2010</td><td>7086</td></tr><tr><td>2011</td><td>8558</td></tr><tr><td>2012</td><td>9351</td></tr><tr><td>2013</td><td>9750</td></tr><tr><td>2014</td><td>10192</td></tr><tr><td>2015</td><td>11167</td></tr><tr><td>2016</td><td>11393</td></tr><tr><td>2017</td><td>11611</td></tr><tr><td>2018</td><td>11641</td></tr><tr><td>2019</td><td>11484</td></tr><tr><td>2020</td><td>12617</td></tr><tr><td>2021</td><td>12127</td></tr><tr><td>2022</td><td>10661</td></tr><tr><td>2023</td><td>9397</td></tr><tr><td>2024</td><td>7738</td></tr></tbody></table></div>"
      ]
     },
     "metadata": {
      "application/vnd.databricks.v1+output": {
       "addedWidgets": {},
       "aggData": [],
       "aggError": "",
       "aggOverflow": false,
       "aggSchema": [],
       "aggSeriesLimitReached": false,
       "aggType": "",
       "arguments": {},
       "columnCustomDisplayInfos": {},
       "data": [
        [
         "2010",
         7086
        ],
        [
         "2011",
         8558
        ],
        [
         "2012",
         9351
        ],
        [
         "2013",
         9750
        ],
        [
         "2014",
         10192
        ],
        [
         "2015",
         11167
        ],
        [
         "2016",
         11393
        ],
        [
         "2017",
         11611
        ],
        [
         "2018",
         11641
        ],
        [
         "2019",
         11484
        ],
        [
         "2020",
         12617
        ],
        [
         "2021",
         12127
        ],
        [
         "2022",
         10661
        ],
        [
         "2023",
         9397
        ],
        [
         "2024",
         7738
        ]
       ],
       "datasetInfos": [],
       "dbfsResultPath": null,
       "isJsonSchema": true,
       "metadata": {},
       "overflow": false,
       "plotOptions": {
        "customPlotOptions": {},
        "displayType": "table",
        "pivotAggregation": null,
        "pivotColumns": null,
        "xColumns": null,
        "yColumns": null
       },
       "removedWidgets": [],
       "schema": [
        {
         "metadata": "{}",
         "name": "ano",
         "type": "\"string\""
        },
        {
         "metadata": "{}",
         "name": "total_titulos",
         "type": "\"long\""
        }
       ],
       "type": "table"
      }
     },
     "output_type": "display_data"
    }
   ],
   "source": [
    "%sql\n",
    "SELECT\n",
    "  startYear AS ano,\n",
    "  COUNT(*) AS total_titulos\n",
    "FROM gold_title_basics\n",
    "WHERE titleType = 'tvSeries'\n",
    "  AND startYear >= 2010\n",
    "  AND startYear <= 2024\n",
    "  AND startYear IS NOT NULL\n",
    "GROUP BY startYear\n",
    "ORDER BY startYear;\n"
   ]
  },
  {
   "cell_type": "markdown",
   "metadata": {
    "application/vnd.databricks.v1+cell": {
     "cellMetadata": {},
     "inputWidgets": {},
     "nuid": "9afcc9bf-3f65-4848-b271-11591541528b",
     "showTitle": false,
     "tableResultSettingsMap": {},
     "title": ""
    }
   },
   "source": [
    "\n",
    "![Gráfico da Pergunta 10](https://github.com/plemos66/projeto_mvp_eng_de_dados/raw/main/img/10.png)\n"
   ]
  },
  {
   "cell_type": "markdown",
   "metadata": {
    "application/vnd.databricks.v1+cell": {
     "cellMetadata": {},
     "inputWidgets": {},
     "nuid": "7ab23fb7-cbc4-498d-925f-743c29f8bd8d",
     "showTitle": false,
     "tableResultSettingsMap": {},
     "title": ""
    }
   },
   "source": [
    "## 📺 10. Evolução da Produção de Séries de TV (2010–2024)\n",
    "\n",
    "---\n",
    "\n",
    "\n",
    "- Entre **2010 e 2020**, o número de produções de séries cresceu de forma consistente, passando de cerca de **7 mil** para mais de **12 mil títulos por ano** — um crescimento de quase 80%.\n",
    "\n",
    "- O pico ocorreu em **2020**, com **12.617** novas séries — possivelmente impulsionado pelo aumento de demanda por conteúdo digital durante a pandemia!\n",
    "\n",
    "- A partir de **2021**, observa-se uma **queda progressiva**, chegando a **7.738 séries em 2024**, número comparável ao de 2010.\n",
    "\n",
    "- Essa desaceleração pode estar relacionada à **saturação de mercado**, **contenção orçamentária de grandes estúdios**, ou mudanças no comportamento do consumidor com a diversificação de formatos (minisséries, podcasts, canais curtos como TikTok etc.).\n",
    "\n"
   ]
  }
 ],
 "metadata": {
  "application/vnd.databricks.v1+notebook": {
   "computePreferences": null,
   "dashboards": [],
   "environmentMetadata": {
    "base_environment": "",
    "environment_version": "1"
   },
   "inputWidgetPreferences": null,
   "language": "python",
   "notebookMetadata": {
    "mostRecentlyExecutedCommandWithImplicitDF": {
     "commandId": 2680630716373508,
     "dataframes": [
      "_sqldf"
     ]
    },
    "pythonIndentUnit": 4
   },
   "notebookName": "Notebook6 - Análises e Perguntas",
   "widgets": {}
  }
 },
 "nbformat": 4,
 "nbformat_minor": 0
}