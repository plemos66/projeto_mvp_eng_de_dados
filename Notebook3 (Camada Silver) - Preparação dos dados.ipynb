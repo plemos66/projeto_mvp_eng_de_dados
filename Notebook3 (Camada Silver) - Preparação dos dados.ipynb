{
 "cells": [
  {
   "cell_type": "markdown",
   "metadata": {
    "application/vnd.databricks.v1+cell": {
     "cellMetadata": {
      "byteLimit": 2048000,
      "rowLimit": 10000
     },
     "inputWidgets": {},
     "nuid": "8737dbfe-0e79-4395-a477-74e8a3b0b8d6",
     "showTitle": false,
     "tableResultSettingsMap": {},
     "title": ""
    }
   },
   "source": [
    "%md\n",
    "# Projeto de Análise de Dados - IMDB\n",
    "\n",
    "## Objetivo do Notebook 3\n",
    "\n",
    "Neste notebook, realizei a etapa de tratamento dos dados brutos do projeto. Foram aplicadas limpezas nas tabelas para corrigir inconsistências, como anos de nascimento e falecimento fora de faixas válidas, além do tratamento de campos nulos e eliminação de duplicidades. Também foi calculada a idade das pessoas com base nas informações disponíveis. Por fim, foram criadas views temporárias que servirão como base para a construção da camada gold no próximo passo do projeto.\n"
   ]
  },
  {
   "cell_type": "markdown",
   "metadata": {
    "application/vnd.databricks.v1+cell": {
     "cellMetadata": {
      "byteLimit": 2048000,
      "rowLimit": 10000
     },
     "inputWidgets": {},
     "nuid": "473259dd-f65a-4f29-99aa-881d72efb6e8",
     "showTitle": false,
     "tableResultSettingsMap": {},
     "title": ""
    }
   },
   "source": [
    "##1 - Importar Biblioteca"
   ]
  },
  {
   "cell_type": "code",
   "execution_count": 0,
   "metadata": {
    "application/vnd.databricks.v1+cell": {
     "cellMetadata": {
      "byteLimit": 2048000,
      "rowLimit": 10000
     },
     "inputWidgets": {},
     "nuid": "0043af7a-a2e3-4f4a-acf1-5cbc8152a12d",
     "showTitle": false,
     "tableResultSettingsMap": {},
     "title": ""
    }
   },
   "outputs": [],
   "source": [
    "from pyspark.sql.functions import col, year, current_date, when\n",
    "from pyspark.sql.types import IntegerType, DoubleType"
   ]
  },
  {
   "cell_type": "markdown",
   "metadata": {
    "application/vnd.databricks.v1+cell": {
     "cellMetadata": {
      "byteLimit": 2048000,
      "rowLimit": 10000
     },
     "inputWidgets": {},
     "nuid": "9e65f3b5-0052-4c09-8893-9aa2378875e1",
     "showTitle": false,
     "tableResultSettingsMap": {},
     "title": ""
    }
   },
   "source": [
    "##2 - Dataframes da Camada Anterior"
   ]
  },
  {
   "cell_type": "code",
   "execution_count": 0,
   "metadata": {
    "application/vnd.databricks.v1+cell": {
     "cellMetadata": {
      "byteLimit": 2048000,
      "rowLimit": 10000
     },
     "inputWidgets": {},
     "nuid": "65a638ef-cdac-4946-914a-f63393722551",
     "showTitle": false,
     "tableResultSettingsMap": {},
     "title": ""
    }
   },
   "outputs": [],
   "source": [
    "df_name_basics = spark.table(\"default.name_basics\")\n",
    "df_title_basics = spark.table(\"default.title_basics\")\n",
    "df_title_crew = spark.table(\"default.title_crew\")\n",
    "df_title_episode = spark.table(\"default.title_episode\")\n",
    "df_title_ratings = spark.table(\"default.title_ratings\")\n",
    "df_title_principals = spark.table(\"default.title_principals\")\n",
    "df_title_akas = spark.table(\"default.title_akas\")"
   ]
  },
  {
   "cell_type": "markdown",
   "metadata": {
    "application/vnd.databricks.v1+cell": {
     "cellMetadata": {
      "byteLimit": 2048000,
      "rowLimit": 10000
     },
     "inputWidgets": {},
     "nuid": "0b3f01c9-bc45-45ac-963d-a9abeab5f0ac",
     "showTitle": false,
     "tableResultSettingsMap": {},
     "title": ""
    }
   },
   "source": [
    "##3 - Tratamento dos Dados"
   ]
  },
  {
   "cell_type": "code",
   "execution_count": 0,
   "metadata": {
    "application/vnd.databricks.v1+cell": {
     "cellMetadata": {
      "byteLimit": 2048000,
      "rowLimit": 10000
     },
     "inputWidgets": {},
     "nuid": "ef7265fe-98fb-4287-9a60-820a7249f255",
     "showTitle": false,
     "tableResultSettingsMap": {},
     "title": ""
    }
   },
   "outputs": [],
   "source": [
    "#Ano Atual\n",
    "ano_atual = year(current_date())"
   ]
  },
  {
   "cell_type": "markdown",
   "metadata": {
    "application/vnd.databricks.v1+cell": {
     "cellMetadata": {
      "byteLimit": 2048000,
      "rowLimit": 10000
     },
     "inputWidgets": {},
     "nuid": "2c2bc473-7170-4fd1-8517-ad1ccc05b21c",
     "showTitle": false,
     "tableResultSettingsMap": {},
     "title": ""
    }
   },
   "source": [
    "3.1 - Tabela Name_Basics"
   ]
  },
  {
   "cell_type": "code",
   "execution_count": 0,
   "metadata": {
    "application/vnd.databricks.v1+cell": {
     "cellMetadata": {
      "byteLimit": 2048000,
      "rowLimit": 10000
     },
     "inputWidgets": {},
     "nuid": "aac10a34-4b11-405a-878c-3ff6f976335f",
     "showTitle": false,
     "tableResultSettingsMap": {},
     "title": ""
    }
   },
   "outputs": [],
   "source": [
    "#Adicionando a Coluna de Idade\n",
    "df_name_basics_tratado = (\n",
    "    df_name_basics\n",
    "    .dropDuplicates()\n",
    "    .withColumn(\"birthYear\", col(\"birthYear\").cast(IntegerType()))\n",
    "    .withColumn(\"deathYear\", col(\"deathYear\").cast(IntegerType()))\n",
    "\n",
    "#Tornar Datas aceitáveis\n",
    "    .withColumn(\"birthYear\", when((col(\"birthYear\") > 1800) & (col(\"birthYear\") <= ano_atual), col(\"birthYear\")).otherwise(None))\n",
    "    .withColumn(\"deathYear\", when((col(\"deathYear\") >= col(\"birthYear\")) & (col(\"deathYear\") <= ano_atual), col(\"deathYear\")).otherwise(None))\n",
    "\n",
    "#Preencher Nulos\n",
    " .na.fill({\"birthYear\": 0, \"deathYear\": 0})\n",
    "\n",
    " #Calculo da Idade\n",
    "  .withColumn(\n",
    "        \"idade\",\n",
    "        when(col(\"deathYear\") > 0, col(\"deathYear\") - col(\"birthYear\"))\n",
    "        .when(col(\"birthYear\") > 0, ano_atual - col(\"birthYear\"))\n",
    "        .otherwise(None)\n",
    "    )\n",
    ")"
   ]
  },
  {
   "cell_type": "markdown",
   "metadata": {
    "application/vnd.databricks.v1+cell": {
     "cellMetadata": {
      "byteLimit": 2048000,
      "rowLimit": 10000
     },
     "inputWidgets": {},
     "nuid": "3d05c923-3540-45d5-abe9-c168596a224f",
     "showTitle": false,
     "tableResultSettingsMap": {},
     "title": ""
    }
   },
   "source": [
    "3.2 - Tabela Title_Basics"
   ]
  },
  {
   "cell_type": "code",
   "execution_count": 0,
   "metadata": {
    "application/vnd.databricks.v1+cell": {
     "cellMetadata": {
      "byteLimit": 2048000,
      "rowLimit": 10000
     },
     "inputWidgets": {},
     "nuid": "d8236af4-fdc3-44a1-8b60-fb7aa591ba4d",
     "showTitle": false,
     "tableResultSettingsMap": {},
     "title": ""
    }
   },
   "outputs": [],
   "source": [
    "df_title_basics_tratado = (\n",
    "    df_title_basics\n",
    "    .dropDuplicates()\n",
    "    .withColumn(\"startYear\", col(\"startYear\").cast(IntegerType()))\n",
    "    .withColumn(\"endYear\", col(\"endYear\").cast(IntegerType()))\n",
    "    .withColumn(\"runtimeMinutes\", col(\"runtimeMinutes\").cast(IntegerType()))\n",
    "\n",
    "#Datas aceitáveis\n",
    "  .withColumn(\"startYear\", when((col(\"startYear\") > 1800) & (col(\"startYear\") <= ano_atual), col(\"startYear\")).otherwise(None))\n",
    "    .withColumn(\"endYear\", when((col(\"endYear\") >= col(\"startYear\")) & (col(\"endYear\") <= ano_atual), col(\"endYear\")).otherwise(None))\n",
    "    .na.fill({\"startYear\": 0, \"endYear\": 0, \"runtimeMinutes\": 0})\n",
    ")"
   ]
  },
  {
   "cell_type": "markdown",
   "metadata": {
    "application/vnd.databricks.v1+cell": {
     "cellMetadata": {
      "byteLimit": 2048000,
      "rowLimit": 10000
     },
     "inputWidgets": {},
     "nuid": "6f9c52f4-44fb-4982-b6c8-1099e389c99f",
     "showTitle": false,
     "tableResultSettingsMap": {},
     "title": ""
    }
   },
   "source": [
    "3.3 Tabela Title_Crew"
   ]
  },
  {
   "cell_type": "code",
   "execution_count": 0,
   "metadata": {
    "application/vnd.databricks.v1+cell": {
     "cellMetadata": {
      "byteLimit": 2048000,
      "rowLimit": 10000
     },
     "inputWidgets": {},
     "nuid": "8c14e68d-17ac-4bf0-9e87-e962e780abc8",
     "showTitle": false,
     "tableResultSettingsMap": {},
     "title": ""
    }
   },
   "outputs": [],
   "source": [
    "## 3.3 title_crew\n",
    "df_title_crew_tratado = (\n",
    "    df_title_crew\n",
    "    .dropDuplicates()\n",
    ")\n"
   ]
  },
  {
   "cell_type": "markdown",
   "metadata": {
    "application/vnd.databricks.v1+cell": {
     "cellMetadata": {
      "byteLimit": 2048000,
      "rowLimit": 10000
     },
     "inputWidgets": {},
     "nuid": "38f93d02-0b51-4480-a130-b784f974c82e",
     "showTitle": false,
     "tableResultSettingsMap": {},
     "title": ""
    }
   },
   "source": [
    "3.4 - Tabela Title_Episode"
   ]
  },
  {
   "cell_type": "code",
   "execution_count": 0,
   "metadata": {
    "application/vnd.databricks.v1+cell": {
     "cellMetadata": {
      "byteLimit": 2048000,
      "rowLimit": 10000
     },
     "inputWidgets": {},
     "nuid": "66bc182c-ebcd-4519-865b-cd3fd734bf15",
     "showTitle": false,
     "tableResultSettingsMap": {},
     "title": ""
    }
   },
   "outputs": [],
   "source": [
    "df_title_episode_tratado = (\n",
    "    df_title_episode\n",
    "    .dropDuplicates()\n",
    "    .withColumn(\"seasonNumber\", col(\"seasonNumber\").cast(IntegerType()))\n",
    "    .withColumn(\"episodeNumber\", col(\"episodeNumber\").cast(IntegerType()))\n",
    "    .na.fill({\"seasonNumber\": 0, \"episodeNumber\": 0})\n",
    ")"
   ]
  },
  {
   "cell_type": "markdown",
   "metadata": {
    "application/vnd.databricks.v1+cell": {
     "cellMetadata": {
      "byteLimit": 2048000,
      "rowLimit": 10000
     },
     "inputWidgets": {},
     "nuid": "37219051-1745-4047-9091-a9648156a30e",
     "showTitle": false,
     "tableResultSettingsMap": {},
     "title": ""
    }
   },
   "source": [
    "3.5 - Tabela Title_Ratings"
   ]
  },
  {
   "cell_type": "code",
   "execution_count": 0,
   "metadata": {
    "application/vnd.databricks.v1+cell": {
     "cellMetadata": {
      "byteLimit": 2048000,
      "rowLimit": 10000
     },
     "inputWidgets": {},
     "nuid": "63f2f8b7-da6d-48c3-8dfb-79d5b04337ad",
     "showTitle": false,
     "tableResultSettingsMap": {},
     "title": ""
    }
   },
   "outputs": [],
   "source": [
    "df_title_ratings_tratado = (\n",
    "    df_title_ratings\n",
    "    .dropDuplicates()\n",
    "    .na.fill({\"averageRating\": 0.0, \"numVotes\": 0})\n",
    ")"
   ]
  },
  {
   "cell_type": "markdown",
   "metadata": {
    "application/vnd.databricks.v1+cell": {
     "cellMetadata": {
      "byteLimit": 2048000,
      "rowLimit": 10000
     },
     "inputWidgets": {},
     "nuid": "3e6acab3-806f-4618-be54-a975ded0e1e1",
     "showTitle": false,
     "tableResultSettingsMap": {},
     "title": ""
    }
   },
   "source": [
    "3.6 - Tabela Title_Principals"
   ]
  },
  {
   "cell_type": "code",
   "execution_count": 0,
   "metadata": {
    "application/vnd.databricks.v1+cell": {
     "cellMetadata": {
      "byteLimit": 2048000,
      "rowLimit": 10000
     },
     "inputWidgets": {},
     "nuid": "a1bc3a2f-ff9b-4ef4-bcd9-511e168de547",
     "showTitle": false,
     "tableResultSettingsMap": {},
     "title": ""
    }
   },
   "outputs": [],
   "source": [
    "df_title_principals_tratado = (\n",
    "    df_title_principals\n",
    "    .dropDuplicates()\n",
    "    .withColumn(\"ordering\", col(\"ordering\").cast(IntegerType()))\n",
    ")"
   ]
  },
  {
   "cell_type": "markdown",
   "metadata": {
    "application/vnd.databricks.v1+cell": {
     "cellMetadata": {
      "byteLimit": 2048000,
      "rowLimit": 10000
     },
     "inputWidgets": {},
     "nuid": "9008a0e3-e2e0-48f3-8b4e-9fd21ee83473",
     "showTitle": false,
     "tableResultSettingsMap": {},
     "title": ""
    }
   },
   "source": [
    "3.7 - Tabela Title_Akas"
   ]
  },
  {
   "cell_type": "code",
   "execution_count": 0,
   "metadata": {
    "application/vnd.databricks.v1+cell": {
     "cellMetadata": {
      "byteLimit": 2048000,
      "rowLimit": 10000
     },
     "inputWidgets": {},
     "nuid": "23073eb3-6300-4e64-89b2-b3f462023442",
     "showTitle": false,
     "tableResultSettingsMap": {},
     "title": ""
    }
   },
   "outputs": [],
   "source": [
    "df_title_akas_tratado = (\n",
    "    df_title_akas\n",
    "    .dropDuplicates()\n",
    "    .withColumn(\"ordering\", col(\"ordering\").cast(IntegerType()))\n",
    "    .withColumn(\"isOriginalTitle\", col(\"isOriginalTitle\").cast(IntegerType()))\n",
    ")"
   ]
  },
  {
   "cell_type": "markdown",
   "metadata": {
    "application/vnd.databricks.v1+cell": {
     "cellMetadata": {
      "byteLimit": 2048000,
      "rowLimit": 10000
     },
     "inputWidgets": {},
     "nuid": "de32f8e1-030b-49cd-b8a4-ed5379f8031a",
     "showTitle": false,
     "tableResultSettingsMap": {},
     "title": ""
    }
   },
   "source": [
    "##4 - Verificações de integridade (joins para manter somente chaves existentes)"
   ]
  },
  {
   "cell_type": "code",
   "execution_count": 0,
   "metadata": {
    "application/vnd.databricks.v1+cell": {
     "cellMetadata": {
      "byteLimit": 2048000,
      "rowLimit": 10000
     },
     "inputWidgets": {},
     "nuid": "3d81c152-8acc-4c8d-8fa5-d310ed8e4703",
     "showTitle": false,
     "tableResultSettingsMap": {},
     "title": ""
    }
   },
   "outputs": [],
   "source": [
    "## Verificar se tconst existe em title_basics\n",
    "df_title_ratings_tratado = df_title_ratings_tratado.join(df_title_basics_tratado, on=\"tconst\", how=\"inner\")\n",
    "df_title_episode_tratado = df_title_episode_tratado.join(df_title_basics_tratado, on=\"tconst\", how=\"inner\")\n",
    "df_title_crew_tratado = df_title_crew_tratado.join(df_title_basics_tratado, on=\"tconst\", how=\"inner\")\n",
    "df_title_principals_tratado = df_title_principals_tratado.join(df_title_basics_tratado, on=\"tconst\", how=\"inner\")\n",
    "\n",
    "## Join com titleId (que corresponde a tconst)\n",
    "df_title_akas_tratado = (\n",
    "    df_title_akas_tratado\n",
    "    .join(df_title_basics_tratado, df_title_akas_tratado[\"titleId\"] == df_title_basics_tratado[\"tconst\"], \"inner\")\n",
    "    .select(df_title_akas_tratado[\"*\"])\n",
    ")\n",
    "\n",
    "## Verificar se nconst existe no name_basics (para principals)\n",
    "df_title_principals_tratado = df_title_principals_tratado.join(df_name_basics_tratado, on=\"nconst\", how=\"inner\")\n"
   ]
  },
  {
   "cell_type": "markdown",
   "metadata": {
    "application/vnd.databricks.v1+cell": {
     "cellMetadata": {
      "byteLimit": 2048000,
      "rowLimit": 10000
     },
     "inputWidgets": {},
     "nuid": "3811c037-9c36-4c64-99be-394767caea68",
     "showTitle": false,
     "tableResultSettingsMap": {},
     "title": ""
    }
   },
   "source": [
    "##5 - Criar Views Temporárias"
   ]
  },
  {
   "cell_type": "code",
   "execution_count": 0,
   "metadata": {
    "application/vnd.databricks.v1+cell": {
     "cellMetadata": {
      "byteLimit": 2048000,
      "rowLimit": 10000
     },
     "inputWidgets": {},
     "nuid": "5304d505-a2a5-42e9-b384-e5c194aa4526",
     "showTitle": false,
     "tableResultSettingsMap": {},
     "title": ""
    }
   },
   "outputs": [],
   "source": [
    "df_name_basics_tratado.createOrReplaceTempView(\"tratado_name_basics\")\n",
    "df_title_basics_tratado.createOrReplaceTempView(\"tratado_title_basics\")\n",
    "df_title_crew_tratado.createOrReplaceTempView(\"tratado_title_crew\")\n",
    "df_title_episode_tratado.createOrReplaceTempView(\"tratado_title_episode\")\n",
    "df_title_ratings_tratado.createOrReplaceTempView(\"tratado_title_ratings\")\n",
    "df_title_principals_tratado.createOrReplaceTempView(\"tratado_title_principals\")\n",
    "df_title_akas_tratado.createOrReplaceTempView(\"tratado_title_akas\")"
   ]
  },
  {
   "cell_type": "markdown",
   "metadata": {
    "application/vnd.databricks.v1+cell": {
     "cellMetadata": {},
     "inputWidgets": {},
     "nuid": "af116843-b0fb-45cc-a6a5-1785ad0b0468",
     "showTitle": false,
     "tableResultSettingsMap": {},
     "title": ""
    }
   },
   "source": [
    "##6 - Tabelas Silver Salvas no Metastore"
   ]
  },
  {
   "cell_type": "code",
   "execution_count": 0,
   "metadata": {
    "application/vnd.databricks.v1+cell": {
     "cellMetadata": {
      "byteLimit": 2048000,
      "rowLimit": 10000
     },
     "inputWidgets": {},
     "nuid": "b344cf79-1607-481c-9c8e-0bab936dd8ec",
     "showTitle": false,
     "tableResultSettingsMap": {},
     "title": ""
    }
   },
   "outputs": [
    {
     "output_type": "stream",
     "name": "stdout",
     "output_type": "stream",
     "text": [
      "✅ Tabelas silver salvas no Metastore com sucesso.\n"
     ]
    }
   ],
   "source": [
    "df_name_basics_tratado.write.mode(\"overwrite\").saveAsTable(\"silver_name_basics\")\n",
    "df_title_basics_tratado.write.mode(\"overwrite\").saveAsTable(\"silver_title_basics\")\n",
    "df_title_crew_tratado.write.mode(\"overwrite\").saveAsTable(\"silver_title_crew\")\n",
    "df_title_episode_tratado.write.mode(\"overwrite\").saveAsTable(\"silver_title_episode\")\n",
    "df_title_ratings_tratado.write.mode(\"overwrite\").saveAsTable(\"silver_title_ratings\")\n",
    "df_title_principals_tratado.write.mode(\"overwrite\").saveAsTable(\"silver_title_principals\")\n",
    "df_title_akas_tratado.write.mode(\"overwrite\").saveAsTable(\"silver_title_akas\")\n",
    "\n",
    "print(\"✅ Tabelas silver salvas no Metastore com sucesso.\")\n"
   ]
  }
 ],
 "metadata": {
  "application/vnd.databricks.v1+notebook": {
   "computePreferences": null,
   "dashboards": [],
   "environmentMetadata": {
    "base_environment": "",
    "environment_version": "1"
   },
   "inputWidgetPreferences": null,
   "language": "python",
   "notebookMetadata": {
    "pythonIndentUnit": 4
   },
   "notebookName": "Notebook3 (Camada Silver) - Preparação dos dados",
   "widgets": {}
  }
 },
 "nbformat": 4,
 "nbformat_minor": 0
}