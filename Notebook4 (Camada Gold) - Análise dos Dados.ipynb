{
 "cells": [
  {
   "cell_type": "markdown",
   "metadata": {
    "application/vnd.databricks.v1+cell": {
     "cellMetadata": {
      "byteLimit": 2048000,
      "rowLimit": 10000
     },
     "inputWidgets": {},
     "nuid": "6756c5f8-8ca2-4c92-a794-479c178766e3",
     "showTitle": false,
     "tableResultSettingsMap": {},
     "title": ""
    }
   },
   "source": [
    "# Projeto de Análise de Dados - IMDB\n",
    "\n",
    "## Objetivo do Notebook 4\n",
    "\n",
    "Neste notebook, realizo a construção da camada **gold**, consolidando os dados tratados em tabelas finais no metastore. Esses dados já passaram por limpeza e enriquecimento na etapa anterior (camada silver) e agora estão prontos para análises exploratórias e geração de insights no próximo notebook.\n",
    "\n"
   ]
  },
  {
   "cell_type": "markdown",
   "metadata": {
    "application/vnd.databricks.v1+cell": {
     "cellMetadata": {
      "byteLimit": 2048000,
      "rowLimit": 10000
     },
     "inputWidgets": {},
     "nuid": "0cafc438-1c4f-4844-a727-465d7b6363ab",
     "showTitle": false,
     "tableResultSettingsMap": {},
     "title": ""
    }
   },
   "source": [
    "##Carregar as Tabelas da Camada Silver (Notebook3)"
   ]
  },
  {
   "cell_type": "code",
   "execution_count": 0,
   "metadata": {
    "application/vnd.databricks.v1+cell": {
     "cellMetadata": {
      "byteLimit": 2048000,
      "rowLimit": 10000
     },
     "inputWidgets": {},
     "nuid": "9567ae14-06ff-4f6a-9969-840c69154aa1",
     "showTitle": false,
     "tableResultSettingsMap": {},
     "title": ""
    }
   },
   "outputs": [],
   "source": [
    "df_name_basics = spark.table(\"silver_name_basics\")\n",
    "df_title_basics = spark.table(\"silver_title_basics\")\n",
    "df_title_crew = spark.table(\"silver_title_crew\")\n",
    "df_title_episode = spark.table(\"silver_title_episode\")\n",
    "df_title_ratings = spark.table(\"silver_title_ratings\")\n",
    "df_title_principals = spark.table(\"silver_title_principals\")\n",
    "df_title_akas = spark.table(\"silver_title_akas\")"
   ]
  },
  {
   "cell_type": "markdown",
   "metadata": {
    "application/vnd.databricks.v1+cell": {
     "cellMetadata": {
      "byteLimit": 2048000,
      "rowLimit": 10000
     },
     "inputWidgets": {},
     "nuid": "2ef6e0df-29c3-45cf-bc4e-f35b69d21e33",
     "showTitle": false,
     "tableResultSettingsMap": {},
     "title": ""
    }
   },
   "source": [
    "##Salvar como Tabelas Gold no Metastore\n"
   ]
  },
  {
   "cell_type": "code",
   "execution_count": 0,
   "metadata": {
    "application/vnd.databricks.v1+cell": {
     "cellMetadata": {
      "byteLimit": 2048000,
      "rowLimit": 10000
     },
     "inputWidgets": {},
     "nuid": "521e75d2-c249-4315-9c67-8a03b1f9a3d9",
     "showTitle": false,
     "tableResultSettingsMap": {},
     "title": ""
    }
   },
   "outputs": [
    {
     "output_type": "stream",
     "name": "stdout",
     "output_type": "stream",
     "text": [
      "✅ Tabelas gold criadas no Metastore com sucesso.\n"
     ]
    }
   ],
   "source": [
    "df_name_basics.write.mode(\"overwrite\").saveAsTable(\"gold_name_basics\")\n",
    "df_title_basics.write.mode(\"overwrite\").saveAsTable(\"gold_title_basics\")\n",
    "df_title_crew.write.mode(\"overwrite\").saveAsTable(\"gold_title_crew\")\n",
    "df_title_episode.write.mode(\"overwrite\").saveAsTable(\"gold_title_episode\")\n",
    "df_title_ratings.write.mode(\"overwrite\").saveAsTable(\"gold_title_ratings\")\n",
    "df_title_principals.write.mode(\"overwrite\").saveAsTable(\"gold_title_principals\")\n",
    "df_title_akas.write.mode(\"overwrite\").saveAsTable(\"gold_title_akas\")\n",
    "\n",
    "print(\"✅ Tabelas gold criadas no Metastore com sucesso.\")"
   ]
  }
 ],
 "metadata": {
  "application/vnd.databricks.v1+notebook": {
   "computePreferences": null,
   "dashboards": [],
   "environmentMetadata": {
    "base_environment": "",
    "environment_version": "1"
   },
   "inputWidgetPreferences": null,
   "language": "python",
   "notebookMetadata": {
    "mostRecentlyExecutedCommandWithImplicitDF": {
     "commandId": 2518775860715185,
     "dataframes": [
      "_sqldf"
     ]
    },
    "pythonIndentUnit": 4
   },
   "notebookName": "Notebook4 (Camada Gold) - Análise dos Dados",
   "widgets": {}
  }
 },
 "nbformat": 4,
 "nbformat_minor": 0
}